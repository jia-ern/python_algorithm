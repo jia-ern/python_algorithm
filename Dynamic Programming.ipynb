{
 "cells": [
  {
   "cell_type": "markdown",
   "metadata": {
    "application/vnd.databricks.v1+cell": {
     "cellMetadata": {},
     "inputWidgets": {},
     "nuid": "72cda0c3-7ccf-4f3c-a6d2-81a931c83094",
     "showTitle": false,
     "tableResultSettingsMap": {},
     "title": ""
    }
   },
   "source": [
    "# Dynamic Programming \n",
    "- an algorithmic technique with the following properties.\n",
    "- It is mainly an optimization over plain recursion. Wherever we see a recursive solution that has repeated calls for the same inputs, we can  optimize it using Dynamic Programming.\n",
    "- The idea is to simply store the results of subproblems so that we do not have to re-compute them when needed later. This simple optimization typically reduces time complexities from exponential to polynomial.\n",
    "- Some popular problems solved using Dynamic Programming are Fibonacci Numbers, Diff Utility (Longest Common Subsequence), Bellman–Ford Shortest Path, Floyd Warshall, Edit Distance and Matrix Chain Multiplication.\n",
    "\n",
    "## Approaches of Dynamic Programming (DP)\n",
    "**1. Top-Down Approach (Memoization):**\n",
    "- aka. memoization\n",
    "- keep the solution recursive and add a memoization table to avoid repeated calls of same subproblems.\n",
    "- Before making any recursive call, we first check if the memoization table already has solution for it.\n",
    "- After the recursive call is over, we store the solution in the memoization table.\n",
    "\n",
    "**2. Bottom-Up Approach (Tabulation):**\n",
    "- aka. tabulation\n",
    "- start with the smallest subproblems and gradually build up to the final solution.\n",
    "\n",
    "We write an iterative solution (avoid recursion overhead) and build the solution in bottom-up manner.\n",
    "We use a dp table where we first fill the solution for base cases and then fill the remaining entries of the table using recursive formula.\n",
    "We only use recursive formula on table entries and do not make recursive calls."
   ]
  },
  {
   "cell_type": "code",
   "execution_count": 0,
   "metadata": {
    "application/vnd.databricks.v1+cell": {
     "cellMetadata": {
      "byteLimit": 2048000,
      "rowLimit": 10000
     },
     "inputWidgets": {},
     "nuid": "78ba64ee-68ff-4e78-b456-bb03395c1454",
     "showTitle": true,
     "tableResultSettingsMap": {},
     "title": "Example: Fibonacci sequence"
    }
   },
   "outputs": [],
   "source": [
    "# recursive way\n",
    "# time complexity of the above approach is exponential and upper bounded by O(2n) as we make two recursive calls in every function.\n",
    "\n",
    "def fib_recursive(n):\n",
    "    if n <= 1:\n",
    "        return n\n",
    "    return fib_recursive(n - 1) + fib_recursive(n - 2)\n",
    "\n",
    "print(\"Fib recursive: \", fib_recursive(5))\n",
    "\n",
    "\n",
    "# Using Memoization Approach - O(n) Time and O(n) Space\n",
    "def fib_memoization_rec(n, memo):\n",
    "  \n",
    "    # Base case\n",
    "    if n <= 1:\n",
    "        return n\n",
    "\n",
    "    # To check if output already exists\n",
    "    if memo[n] != -1:\n",
    "        return memo[n]\n",
    "\n",
    "    # Calculate and save output for future use\n",
    "    memo[n] = fib_memoization_rec(n - 1, memo) + fib_memoization_rec(n - 2, memo)\n",
    "    return memo[n]\n",
    "\n",
    "def fib_memoization(n):\n",
    "    memo = [-1] * (n + 1)\n",
    "    return fib_memoization_rec(n, memo)\n",
    "\n",
    "n = 5\n",
    "print(\"Fib memoization: \", fib_memoization(n))\n",
    "\n",
    "\n",
    "# Using Tabulation Approach\n",
    "# O(n) Time and O(n) Space\n",
    "def fib_tabulation(n):\n",
    "    dp = [0] * (n + 1)\n",
    "    print(\"dp: \", dp)\n",
    "\n",
    "    # dp:  [0, 1, 0, 0, 0, 0]\n",
    "    # fib(0) = 0\n",
    "    # fib(1) = 1\n",
    "    # Storing the independent values in dp\n",
    "    dp[0] = 0\n",
    "    dp[1] = 1\n",
    "\n",
    "    # dp:  [0, 1, 1, 2, 3, 5]\n",
    "    # fib(2) = 0+1 = 1\n",
    "    # fib(3) = 1+1 = 2\n",
    "    # fib(4) = 1+2 = 3\n",
    "    # fib(5) = 2+3 = 5\n",
    "    # Using the bottom-up approach\n",
    "    for i in range(2, n + 1):\n",
    "        dp[i] = dp[i - 1] + dp[i - 2]\n",
    "    \n",
    "    return dp[n]\n",
    "\n",
    "n = 5\n",
    "print(\"Fib tabulation: \", fib_tabulation(n))"
   ]
  },
  {
   "cell_type": "code",
   "execution_count": 0,
   "metadata": {
    "application/vnd.databricks.v1+cell": {
     "cellMetadata": {},
     "inputWidgets": {},
     "nuid": "7b4a00c2-be23-46e9-826c-e08f02662eca",
     "showTitle": false,
     "tableResultSettingsMap": {},
     "title": ""
    }
   },
   "outputs": [],
   "source": []
  }
 ],
 "metadata": {
  "application/vnd.databricks.v1+notebook": {
   "computePreferences": null,
   "dashboards": [],
   "environmentMetadata": {
    "base_environment": "",
    "environment_version": "2"
   },
   "inputWidgetPreferences": null,
   "language": "python",
   "notebookMetadata": {
    "pythonIndentUnit": 4
   },
   "notebookName": "Dynamic Programming",
   "widgets": {}
  },
  "language_info": {
   "name": "python"
  }
 },
 "nbformat": 4,
 "nbformat_minor": 0
}
