{
 "cells": [
  {
   "cell_type": "markdown",
   "metadata": {
    "application/vnd.databricks.v1+cell": {
     "cellMetadata": {},
     "inputWidgets": {},
     "nuid": "1f61b51f-5144-40fa-b9bc-d5ceff23e539",
     "showTitle": false,
     "tableResultSettingsMap": {},
     "title": ""
    }
   },
   "source": [
    "1. Visiting Vertex\n",
    "2. Exploring Vertex\n",
    "\n",
    "![](/Workspace/Users/jif170122@gmail.com/python_algorithm/pictures/dfs_dbs.png)\n",
    "\n",
    "| Category | Breadth First Search (BFS) | Depth First Search (DFS) |\n",
    "| :-- | :-- | :-- |\n",
    "| Data Structure Used | Queue | Stack (or recursion). |\n",
    "| Traversal Order | Level-based | Branch-based (deep before shallow). |\n",
    "| Suitable for | Searching vertices closer to the source. | Searching vertices farther from the source. |\n",
    "| Shortest Path | Finds shortest path in unweighted graphs. | Less suitable for shortest path problems. |\n",
    "| Applications | Bipartite graphs, unweighted shortest path. | SCC detection, cycle detection, topological sorting. |"
   ]
  },
  {
   "cell_type": "markdown",
   "metadata": {
    "application/vnd.databricks.v1+cell": {
     "cellMetadata": {},
     "inputWidgets": {},
     "nuid": "c24562cc-6558-4878-ab1a-a881192f06b7",
     "showTitle": false,
     "tableResultSettingsMap": {},
     "title": ""
    }
   },
   "source": [
    "![](/Workspace/Users/jif170122@gmail.com/python_algorithm/pictures/bfs_spanning.png)\n",
    "![](/Workspace/Users/jif170122@gmail.com/python_algorithm/pictures/dfs_spanning.png)"
   ]
  },
  {
   "cell_type": "code",
   "execution_count": 0,
   "metadata": {
    "application/vnd.databricks.v1+cell": {
     "cellMetadata": {
      "byteLimit": 2048000,
      "rowLimit": 10000
     },
     "inputWidgets": {},
     "nuid": "8630f7e7-0c24-4569-acdc-f0e95bd557ee",
     "showTitle": true,
     "tableResultSettingsMap": {},
     "title": "DFS"
    }
   },
   "outputs": [],
   "source": [
    "# Time complexity: O(V + E), where V is the number of vertices and E is the number of edges in the graph.\n",
    "# Auxiliary Space: O(V + E), since an extra visited array of size V is required, And stack size for recursive calls to dfsRec function.\n",
    "\n",
    "def dfsRec(adj, visited, s, res):\n",
    "    visited[s] = True\n",
    "    res.append(s)\n",
    "\n",
    "    # Recursively visit all adjacent vertices that are not visited yet\n",
    "    for i in range(len(adj)):\n",
    "        if adj[s][i] == 1 and not visited[i]:\n",
    "            dfsRec(adj, visited, i, res)\n",
    "\n",
    "\n",
    "def DFS(adj):\n",
    "    visited = [False] * len(adj)\n",
    "    res = []\n",
    "    dfsRec(adj, visited, 0, res)  # Start DFS from vertex 0\n",
    "    return res\n",
    "\n",
    "\n",
    "def add_edge(adj, s, t):\n",
    "    adj[s][t] = 1\n",
    "    adj[t][s] = 1  # Since it's an undirected graph\n",
    "\n",
    "\n",
    "V = 5\n",
    "adj = [[0] * V for _ in range(V)]  # Adjacency matrix\n",
    "\n",
    "# Define the edges of the graph\n",
    "edges = [(1, 2), (1, 0), (2, 0), (2, 3), (2, 4)]\n",
    "\n",
    "# Populate the adjacency matrix with edges\n",
    "for s, t in edges:\n",
    "    add_edge(adj, s, t)\n",
    "\n",
    "res = DFS(adj)  # Perform DFS\n",
    "print(\" \".join(map(str, res)))"
   ]
  },
  {
   "cell_type": "code",
   "execution_count": 0,
   "metadata": {
    "application/vnd.databricks.v1+cell": {
     "cellMetadata": {
      "byteLimit": 2048000,
      "rowLimit": 10000
     },
     "inputWidgets": {},
     "nuid": "14d469ab-b2c8-4373-beb2-95a21b7d9a24",
     "showTitle": true,
     "tableResultSettingsMap": {},
     "title": "DFS - stack"
    }
   },
   "outputs": [],
   "source": [
    "# dfs_recursive\n",
    "# Pros:\n",
    "# Simplicity: The code is compact and mirrors the problem well.\n",
    "# Readability: Easier to understand, especially for small to medium-sized problems.\n",
    "# Cons:\n",
    "# Recursion Depth Limit: For large graphs, you might hit Python’s recursion depth limit.\n",
    "\n",
    "# dfs_iterative\n",
    "# Pros: No Recursion Limit: Managing the stack manually avoids Python's recursion depth limit.\n",
    "# Cons:\n",
    "# # More Code: Iterative DFS requires more setup and can be less intuitive.\n",
    "# Readability: The code is often slightly more verbose, making it harder to follow.\n",
    "\n",
    "def dfs_recursive(tree, node, visited=None):\n",
    "    if visited is None:\n",
    "        visited = set()  # Initialize the visited set\n",
    "    visited.add(node)    # Mark the node as visited\n",
    "    print(node)          # Print the current node (for illustration)\n",
    "    for child in tree[node]:  # Recursively visit children\n",
    "        if child not in visited:\n",
    "            dfs_recursive(tree, child, visited)\n",
    "\n",
    "\n",
    "# For very large decision trees, Python’s recursion depth limit could cause issues. \n",
    "# Implement DFS iteratively, using a stack to manage the nodes that need to be visited. \n",
    "def dfs_iterative(tree, start):\n",
    "    visited = set()  # Track visited nodes\n",
    "    stack = [start]  # Stack for DFS\n",
    "\n",
    "    while stack:  # Continue until stack is empty\n",
    "        node = stack.pop()  # Pop a node from the stack\n",
    "        if node not in visited:\n",
    "            visited.add(node)  # Mark node as visited\n",
    "            print(node)        # Print the current node (for illustration)\n",
    "            stack.extend(reversed(tree[node]))  # Add child nodes to stack\n",
    "\n",
    "tree = {\n",
    "    'A': ['B', 'C'],\n",
    "    'B': ['D', 'E'],\n",
    "    'C': ['F', 'G'],\n",
    "    'D': ['H', 'I'],\n",
    "    'E': ['J', 'K'],\n",
    "    'F': ['L', 'M'],\n",
    "    'G': ['N', 'O'],\n",
    "    'H': [], 'I': [], 'J': [], 'K': [],\n",
    "    'L': [], 'M': [], 'N': [], 'O': []\n",
    "}\n",
    "\n",
    "# Run DFS starting from node 'A'\n",
    "dfs_recursive(tree, 'A')\n",
    "print(\"=================================\")\n",
    "dfs_iterative(tree, 'A')"
   ]
  },
  {
   "cell_type": "code",
   "execution_count": 0,
   "metadata": {
    "application/vnd.databricks.v1+cell": {
     "cellMetadata": {
      "byteLimit": 2048000,
      "rowLimit": 10000
     },
     "inputWidgets": {},
     "nuid": "ba4b5a6b-7f0f-49dd-8422-b09105a63566",
     "showTitle": true,
     "tableResultSettingsMap": {},
     "title": "bfs - queue"
    }
   },
   "outputs": [],
   "source": [
    "from collections import deque  # Import deque for efficient queue operations\n",
    "\n",
    "def bfs(tree, start):\n",
    "    visited = []  # List to keep track of visited nodes\n",
    "    queue = deque([start])  # Initialize the queue with the starting node\n",
    "\n",
    "    while queue:  # While there are still nodes to process\n",
    "        node = queue.popleft()  # Dequeue a node from the front of the queue\n",
    "\n",
    "        if node not in visited:  # Check if the node has been visited\n",
    "            visited.append(node)  # Mark the node as visited\n",
    "            print(node, end=\" \")  # Output the visited node\n",
    "\n",
    "            # Enqueue all unvisited neighbors (children) of the current node\n",
    "            for neighbor in tree[node]:\n",
    "                if neighbor not in visited:\n",
    "                    queue.append(neighbor)  # Add unvisited neighbors to the queue\n",
    "\n",
    "\n",
    "tree = {\n",
    "    'A': ['B', 'C'],  # Node A connects to B and C\n",
    "    'B': ['D', 'E'],  # Node B connects to D and E\n",
    "    'C': ['F', 'G'],  # Node C connects to F and G\n",
    "    'D': ['H', 'I'],  # Node D connects to H and I\n",
    "    'E': ['J', 'K'],  # Node E connects to J and K\n",
    "    'F': ['L', 'M'],  # Node F connects to L and M\n",
    "    'G': ['N', 'O'],  # Node G connects to N and O\n",
    "    'H': [], 'I': [], 'J': [], 'K': [],  # Leaf nodes have no children\n",
    "    'L': [], 'M': [], 'N': [], 'O': []   # Leaf nodes have no children\n",
    "}\n",
    "bfs(tree, 'A')"
   ]
  },
  {
   "cell_type": "code",
   "execution_count": 0,
   "metadata": {
    "application/vnd.databricks.v1+cell": {
     "cellMetadata": {},
     "inputWidgets": {},
     "nuid": "6297bb77-0a41-4d37-bd8b-b7c2e99f9388",
     "showTitle": false,
     "tableResultSettingsMap": {},
     "title": ""
    }
   },
   "outputs": [],
   "source": []
  }
 ],
 "metadata": {
  "application/vnd.databricks.v1+notebook": {
   "computePreferences": null,
   "dashboards": [],
   "environmentMetadata": {
    "base_environment": "",
    "environment_version": "2"
   },
   "inputWidgetPreferences": null,
   "language": "python",
   "notebookMetadata": {
    "pythonIndentUnit": 4
   },
   "notebookName": "Breadth First Search_Depth First Search",
   "widgets": {}
  },
  "language_info": {
   "name": "python"
  }
 },
 "nbformat": 4,
 "nbformat_minor": 0
}
