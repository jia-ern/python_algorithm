{
 "cells": [
  {
   "cell_type": "markdown",
   "metadata": {
    "application/vnd.databricks.v1+cell": {
     "cellMetadata": {},
     "inputWidgets": {},
     "nuid": "9a3f07bc-d977-49a7-8307-17d30d882633",
     "showTitle": false,
     "tableResultSettingsMap": {},
     "title": ""
    }
   },
   "source": [
    "# Tree Traversal \n",
    "- process of visiting or accessing each node of the tree exactly once in a certain order.\n",
    "- visit and process all the nodes of the tree. \n",
    "- Since a tree is not a linear data structure, there can be multiple choices for the next node to be visited. \n",
    "- Hence we have many ways to traverse a tree.\n",
    "\n",
    "## Type\n",
    "- Inorder traversal visits the node in the order: Left -> Root -> Right\n",
    "- Preorder traversal visits the node in the order: Root -> Left -> Right\n",
    "- Postorder traversal visits the node in the order: Left -> Right -> Root"
   ]
  },
  {
   "cell_type": "code",
   "execution_count": 0,
   "metadata": {
    "application/vnd.databricks.v1+cell": {
     "cellMetadata": {},
     "inputWidgets": {},
     "nuid": "74e66479-fc90-4733-b7dc-e5456fa076aa",
     "showTitle": false,
     "tableResultSettingsMap": {},
     "title": ""
    }
   },
   "outputs": [],
   "source": [
    "# Root -> Left -> Right\n",
    "def pre_order(node):\n",
    "    if node is None:\n",
    "        return []\n",
    "    result = [node.key]\n",
    "    result.extend(pre_order(node.left))\n",
    "    result.extend(pre_order(node.right))\n",
    "    return result\n",
    "\n",
    "\n",
    "# Left -> Root -> Right\n",
    "def in_order(node):\n",
    "    if node is None:\n",
    "        return []\n",
    "    result = []\n",
    "    result.extend(in_order(node.left))\n",
    "    result.append(node.key)\n",
    "    result.extend(in_order(node.right))\n",
    "    return result\n",
    "\n",
    "\n",
    "# Left -> Right -> Root\n",
    "def post_order(node):\n",
    "    if node is None:\n",
    "        return []\n",
    "    result = []\n",
    "    result.extend(post_order(node.left))\n",
    "    result.extend(post_order(node.right))\n",
    "    result.append(node.key)\n",
    "    return result"
   ]
  }
 ],
 "metadata": {
  "application/vnd.databricks.v1+notebook": {
   "computePreferences": null,
   "dashboards": [],
   "environmentMetadata": {
    "base_environment": "",
    "environment_version": "2"
   },
   "inputWidgetPreferences": null,
   "language": "python",
   "notebookMetadata": {
    "pythonIndentUnit": 4
   },
   "notebookName": "Tree Traversal Techniques",
   "widgets": {}
  },
  "language_info": {
   "name": "python"
  }
 },
 "nbformat": 4,
 "nbformat_minor": 0
}
