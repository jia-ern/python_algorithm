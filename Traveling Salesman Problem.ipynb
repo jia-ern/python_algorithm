{
 "cells": [
  {
   "cell_type": "markdown",
   "metadata": {
    "application/vnd.databricks.v1+cell": {
     "cellMetadata": {},
     "inputWidgets": {},
     "nuid": "3c947597-81bb-4454-937f-408be378ede1",
     "showTitle": false,
     "tableResultSettingsMap": {},
     "title": ""
    }
   },
   "source": [
    "The Traveling Salesman Problem\n",
    "\n",
    "Rules: Visit every city only once, then return back to the city you started in.\n",
    "\n",
    "Goal: Find the shortest possible route."
   ]
  },
  {
   "cell_type": "code",
   "execution_count": 0,
   "metadata": {
    "application/vnd.databricks.v1+cell": {
     "cellMetadata": {
      "byteLimit": 2048000,
      "rowLimit": 10000
     },
     "inputWidgets": {},
     "nuid": "c837d7ff-4f80-4ca4-a1f7-b6708582dfc8",
     "showTitle": true,
     "tableResultSettingsMap": {},
     "title": "brute force"
    }
   },
   "outputs": [],
   "source": [
    "# checking all routes, and the number of possible routes\n",
    "\n",
    "from itertools import permutations\n",
    "\n",
    "def calculate_distance(route, distances):\n",
    "    total_distance = 0\n",
    "    for i in range(len(route) - 1):\n",
    "        total_distance += distances[route[i]][route[i + 1]]\n",
    "    total_distance += distances[route[-1]][route[0]]\n",
    "    return total_distance\n",
    "\n",
    "def brute_force_tsp(distances):\n",
    "    n = len(distances)\n",
    "    cities = list(range(1, n))\n",
    "    shortest_route = None\n",
    "    min_distance = float('inf')\n",
    "    \n",
    "    for perm in permutations(cities):\n",
    "        current_route = [0] + list(perm)\n",
    "        current_distance = calculate_distance(current_route, distances)\n",
    "        \n",
    "        if current_distance < min_distance:\n",
    "            min_distance = current_distance\n",
    "            shortest_route = current_route\n",
    "    \n",
    "    shortest_route.append(0)\n",
    "    return shortest_route, min_distance\n",
    "\n",
    "distances = [\n",
    "    [0, 2, 2, 5, 9, 3],\n",
    "    [2, 0, 4, 6, 7, 8],\n",
    "    [2, 4, 0, 8, 6, 3],\n",
    "    [5, 6, 8, 0, 4, 9],\n",
    "    [9, 7, 6, 4, 0, 10],\n",
    "    [3, 8, 3, 9, 10, 0]\n",
    "]\n",
    "\n",
    "route, total_distance = brute_force_tsp(distances)\n",
    "print(\"Route:\", route)\n",
    "print(\"Total distance:\", total_distance)"
   ]
  },
  {
   "cell_type": "code",
   "execution_count": 0,
   "metadata": {
    "application/vnd.databricks.v1+cell": {
     "cellMetadata": {
      "byteLimit": 2048000,
      "rowLimit": 10000
     },
     "inputWidgets": {},
     "nuid": "8328e682-55aa-4cdb-8745-59a8e2ee62ec",
     "showTitle": true,
     "tableResultSettingsMap": {},
     "title": "Greedy Algorithm"
    }
   },
   "outputs": [],
   "source": [
    "# Visit every city.\n",
    "# The next city to visit is always the nearest of the unvisited cities from the city you are currently in.\\\n",
    "# After visiting all cities, go back to the city you started in.\n",
    "\n",
    "def nearest_neighbor_tsp(distances):\n",
    "    n = len(distances)\n",
    "    visited = [False] * n\n",
    "    route = [0]\n",
    "    visited[0] = True\n",
    "    total_distance = 0\n",
    "\n",
    "    print(\"n: \", n)\n",
    "    print(\"visited: \", visited)\n",
    "    print(\"route: \", route)\n",
    "    print(\"total_distance: \", total_distance)\n",
    "\n",
    "    for _ in range(1, n):\n",
    "\n",
    "        print(\"=================================\")\n",
    "        # visit row 1 -> row 5\n",
    "\n",
    "        # get the latest city in the route, eg: route = [0, 1], take 1 and find 2-5 which one is the closest\n",
    "        last = route[-1]\n",
    "        nearest = None\n",
    "        min_dist = float('inf')\n",
    "\n",
    "\n",
    "\n",
    "        for i in range(n):\n",
    "\n",
    "            # loop to search shortest distance to city that is not visited from col 1 - 5\n",
    "            print(\"---------------------------------\")\n",
    "            print(\"i: \", i)\n",
    "            print(\"last: \", last)\n",
    "            print(\"visited[i]: \", visited[i])\n",
    "            print(\"distances[last][i]: \", distances[last][i])\n",
    "            print(\"min_dist: \", min_dist)\n",
    "\n",
    "            if not visited[i] and distances[last][i] < min_dist:\n",
    "                min_dist = distances[last][i]\n",
    "                nearest = i\n",
    "\n",
    "        route.append(nearest)\n",
    "        visited[nearest] = True\n",
    "        total_distance += min_dist\n",
    "\n",
    "        print(\"visited: \", visited)\n",
    "        print(\"route: \", route)\n",
    "        print(\"total_distance: \", total_distance)\n",
    "\n",
    "    total_distance += distances[route[-1]][0]\n",
    "    route.append(0)\n",
    "    return route, total_distance\n",
    "\n",
    "distances = [\n",
    "    [0, 2, 2, 5, 9, 3],\n",
    "    [2, 0, 4, 6, 7, 8],\n",
    "    [2, 4, 0, 8, 6, 3],\n",
    "    [5, 6, 8, 0, 4, 9],\n",
    "    [9, 7, 6, 4, 0, 10],\n",
    "    [3, 8, 3, 9, 10, 0]\n",
    "]\n",
    "\n",
    "route, total_distance = nearest_neighbor_tsp(distances)\n",
    "print(\"Route:\", route)\n",
    "print(\"Total distance:\", total_distance)"
   ]
  },
  {
   "cell_type": "code",
   "execution_count": 0,
   "metadata": {
    "application/vnd.databricks.v1+cell": {
     "cellMetadata": {},
     "inputWidgets": {},
     "nuid": "7461efb6-7cd9-49f6-ac39-4f6166c798f2",
     "showTitle": false,
     "tableResultSettingsMap": {},
     "title": ""
    }
   },
   "outputs": [],
   "source": []
  }
 ],
 "metadata": {
  "application/vnd.databricks.v1+notebook": {
   "computePreferences": null,
   "dashboards": [],
   "environmentMetadata": {
    "base_environment": "",
    "environment_version": "2"
   },
   "inputWidgetPreferences": null,
   "language": "python",
   "notebookMetadata": {
    "pythonIndentUnit": 4
   },
   "notebookName": "Traveling Salesman Problem",
   "widgets": {}
  },
  "language_info": {
   "name": "python"
  }
 },
 "nbformat": 4,
 "nbformat_minor": 0
}
