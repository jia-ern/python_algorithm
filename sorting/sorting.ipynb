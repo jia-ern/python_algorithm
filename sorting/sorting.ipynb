{
 "cells": [
  {
   "cell_type": "markdown",
   "metadata": {
    "application/vnd.databricks.v1+cell": {
     "cellMetadata": {},
     "inputWidgets": {},
     "nuid": "2752d00c-839a-4173-95bd-1b0d2e58e016",
     "showTitle": false,
     "tableResultSettingsMap": {},
     "title": ""
    }
   },
   "source": [
    "| Constraint | Best Sorting Algorithm |\n",
    "| :-- | :-- |\n",
    "| Small Dataset | Bubble Sort, Insertion Sort, or Selection Sort (avoid Quicksort or Merge Sort due to overhead). |\n",
    "| Nearly Sorted Dataset | Bubble Sort or Insertion Sort (both perform well with minimal adjustments). |\n",
    "| Memory Constraints | Selection Sort or Quick Sort (both are in-place algorithms). |\n",
    "| Large Dataset | Merge Sort or Quick Sort (Merge Sort if stability is needed, Quick Sort for fast average performance). |\n",
    "| Linked List | Merge Sort (access patterns favor sequential traversal rather than random access). |\n",
    "| Stability Needed | Merge Sort, Bubble Sort, or Insertion Sort. |\n",
    "| Raw Speed Needed | Quick Sort (fastest sorting algorithm for in-memory arrays in most practical situations). |"
   ]
  },
  {
   "cell_type": "code",
   "execution_count": 0,
   "metadata": {
    "application/vnd.databricks.v1+cell": {
     "cellMetadata": {
      "byteLimit": 2048000,
      "rowLimit": 10000
     },
     "inputWidgets": {},
     "nuid": "701609ce-7b2a-43f1-a496-f982eb59bfe6",
     "showTitle": true,
     "tableResultSettingsMap": {},
     "title": "Insertion_Sort"
    }
   },
   "outputs": [],
   "source": [
    "# Insertion_Sort (O(N^2) | O(N^2))\n",
    "# use when\n",
    "# 1. sort small list\n",
    "# 2. the list is already mostly sorted\n",
    "\n",
    "def insertion_sort(InputList):\n",
    "    for i in range(1, len(InputList)):\n",
    "        print(i)\n",
    "        j = i-1\n",
    "        print(\"j==================\")\n",
    "        print(j)\n",
    "        nxt_element = InputList[i]\n",
    "        print(\"nxt_element: \", nxt_element)\n",
    "\n",
    "        while (InputList[j] > nxt_element) and (j >= 0):\n",
    "            print(\"inside while loop\")\n",
    "            print(InputList)\n",
    "            InputList[j+1] = InputList[j]\n",
    "            j=j-1\n",
    "        print(\"InputList[j+1] for loop ==================\")\n",
    "        print(j+1)\n",
    "        print(InputList)\n",
    "        print(InputList)\n",
    "        InputList[j+1] = nxt_element\n",
    "        print(\"InputList for loop ==================\")\n",
    "        print(InputList)\n",
    "\n",
    "# you can add list of any numbers\n",
    "list = [6,5,3,1,8,7,2,4]\n",
    "insertion_sort(list)\n",
    "print(list)"
   ]
  },
  {
   "cell_type": "code",
   "execution_count": 0,
   "metadata": {
    "application/vnd.databricks.v1+cell": {
     "cellMetadata": {
      "byteLimit": 2048000,
      "rowLimit": 10000
     },
     "inputWidgets": {},
     "nuid": "5e5287ae-28ac-4bcc-b714-8325f9275c41",
     "showTitle": true,
     "tableResultSettingsMap": {},
     "title": "Selection_Sort"
    }
   },
   "outputs": [],
   "source": [
    "# Selection_Sort (O(N^2) | O(N^2))\n",
    "# use when\n",
    "# 1. \n",
    "# 2. \n",
    "\n",
    "def selection_sort(input_list):\n",
    "    for idx in range(len(input_list)):\n",
    "        min_idx = idx\n",
    "        print(\"idx: \", idx)\n",
    "        print(\"min_idx: \", min_idx)\n",
    "        print(\"input_list: \", input_list)\n",
    "\n",
    "        for j in range( idx +1, len(input_list)):\n",
    "            print(\"j: \", j)\n",
    "            print(\"input_list[min_idx]: \", input_list[min_idx])\n",
    "            print(\"input_list[j]: \", input_list[j])\n",
    "            if input_list[min_idx] > input_list[j]:\n",
    "                min_idx = j\n",
    "\n",
    "        print(\"Before: input_list[idx], input_list[min_idx] ==================\")\n",
    "        print(input_list)\n",
    "        input_list[idx], input_list[min_idx] = input_list[min_idx], input_list[idx]\n",
    "        print(input_list[idx], input_list[min_idx])\n",
    "        print(\"After: input_list[idx], input_list[min_idx] ==================\")\n",
    "        print(input_list)\n",
    "\n",
    "# add any list of number here \n",
    "l = [5,2,4,6,1,3]\n",
    "selection_sort(l)\n",
    "print(l)"
   ]
  },
  {
   "cell_type": "code",
   "execution_count": 0,
   "metadata": {
    "application/vnd.databricks.v1+cell": {
     "cellMetadata": {
      "byteLimit": 2048000,
      "rowLimit": 10000
     },
     "inputWidgets": {},
     "nuid": "e420395a-0f7d-48af-b683-7314d67b259a",
     "showTitle": true,
     "tableResultSettingsMap": {},
     "title": "Quick_Sort"
    }
   },
   "outputs": [],
   "source": [
    "# Quick_Sort (O(NlogN) | O(N^2))\n",
    "# use when\n",
    "# 1. preferred for larger datasets where performance is critical\n",
    "# 2. in-memory sorting of large datasets\n",
    "\n",
    "# not stable, meaning it does not preserve the relative order of equal elements.\n",
    "\n",
    "def partition(arr, low, high):\n",
    "    i = (low-1)\t\t # index of smaller element\n",
    "    pivot = arr[high]\t # pivot\n",
    "    \n",
    "    print(\"arr: \", arr)\n",
    "    print(\"low: \", low)\n",
    "    print(\"high: \", high)\n",
    "    print(\"i: \", i)\n",
    "    print(\"pivot: \", pivot)\n",
    "    \n",
    "    # compare each element with pivot\n",
    "    for j in range(low, high):\n",
    "        # If current element is smaller than or equal to pivot\n",
    "        if arr[j] <= pivot:\n",
    "            # increment index of smaller element\n",
    "            i = i+1\n",
    "            arr[i], arr[j] = arr[j], arr[i]\n",
    "    \n",
    "    arr[i+1], arr[high] = arr[high], arr[i+1]\n",
    "    return (i+1)\n",
    "\n",
    "def quickSort(arr, low, high):\n",
    "    print(\"===============================\")\n",
    "    print(\"Main low: \", low)\n",
    "    print(\"Main high: \", high)\n",
    "    if len(arr) == 1:\n",
    "        return arr\n",
    "    if low < high:\n",
    "        pi = partition(arr, low, high)\n",
    "        print(\"pi: \", pi)\n",
    "        \n",
    "        print(\"first recursive quicksort\")\n",
    "        quickSort(arr, low, pi-1)\n",
    "        print(\"2nd recursive quicksort\")\n",
    "        quickSort(arr, pi+1, high)\n",
    "\n",
    "arr = [10, 80, 30, 90, 20]\n",
    "n = len(arr)\n",
    "quickSort(arr, 0, n-1)\n",
    "print(arr)"
   ]
  },
  {
   "cell_type": "code",
   "execution_count": 0,
   "metadata": {
    "application/vnd.databricks.v1+cell": {
     "cellMetadata": {
      "byteLimit": 2048000,
      "rowLimit": 10000
     },
     "inputWidgets": {},
     "nuid": "05d11287-ddf5-4601-98c1-c01745f867a6",
     "showTitle": true,
     "tableResultSettingsMap": {},
     "title": "Merge_Sort"
    }
   },
   "outputs": [],
   "source": [
    "# Merge_Sort (O(N^2) | O(N^2))\n",
    "# use when\n",
    "# 1. data stored in external memory or when working with linked lists.\n",
    "# 2. maintains the relative order of elements with the same value.\n",
    "\n",
    "def merge_sort(unsorted_list):\n",
    "    print(\"unsorted_list: \", unsorted_list)\n",
    "    if len(unsorted_list) <= 1:\n",
    "        return unsorted_list\n",
    "    \n",
    "    # Find the middle point and divide the unsorted list\n",
    "    middle = len(unsorted_list) // 2\n",
    "    left_list = unsorted_list[:middle]\n",
    "    right_list = unsorted_list[middle:]\n",
    "\n",
    "    print(\"left_list: \", left_list)\n",
    "    print(\"right_list: \", right_list)\n",
    "\n",
    "    left_list = merge_sort(left_list)\n",
    "    right_list = merge_sort(right_list)\n",
    "    return merge(left_list, right_list)\n",
    "\n",
    "# Merge the sorted halves\n",
    "\n",
    "def merge(left_half,right_half):\n",
    "\n",
    "    res = []\n",
    "    while len(left_half) != 0 and len(right_half) != 0:\n",
    "        if left_half[0] < right_half[0]:\n",
    "            res.append(left_half[0])\n",
    "            del left_half[0]\n",
    "        else:\n",
    "            res.append(right_half[0])\n",
    "            del right_half[0]\n",
    "    if len(left_half) == 0:\n",
    "        res = res + right_half\n",
    "    else:\n",
    "        res = res + left_half\n",
    "\n",
    "    print(\"res: \", res)\n",
    "    return res\n",
    "# You can add any list of numbers here\n",
    "unsorted_list = [6,5,3,1,8,7,2,4]\n",
    "\n",
    "print(merge_sort(unsorted_list))"
   ]
  },
  {
   "cell_type": "markdown",
   "metadata": {
    "application/vnd.databricks.v1+cell": {
     "cellMetadata": {},
     "inputWidgets": {},
     "nuid": "4f62afb7-df71-44bb-afe5-7b4e07f93a8d",
     "showTitle": false,
     "tableResultSettingsMap": {},
     "title": ""
    }
   },
   "source": [
    "# When Stability Is Important\n",
    "## Example Use Case: Multi-Criteria Sorting\n",
    "\n",
    "1. sort by department.\n",
    "2. sort by salary (while maintaining the relative order of employees in the same department from the first sort).\n",
    "\n",
    "Given:\n",
    "\n",
    "`[{'name': 'Alice', 'department': 'HR', 'salary': 5000},\n",
    "\n",
    " {'name': 'Bob', 'department': 'Engineering', 'salary': 6000},\n",
    "\n",
    " {'name': 'Charlie', 'department': 'HR', 'salary': 5500}]`\n",
    "\n",
    "### 1. Sort by department:\n",
    "\n",
    "`[{'name': 'Alice', 'department': 'HR', 'salary': 5000},\n",
    "\n",
    " {'name': 'Charlie', 'department': 'HR', 'salary': 5500},\n",
    "\n",
    " {'name': 'Bob', 'department': 'Engineering', 'salary': 6000}]`\n",
    "\n",
    "### 2. Sort by salary:\n",
    "\n",
    "**Stable Sorting (Merge Sort):**\n",
    "\n",
    "`[{'name': 'Alice', 'department': 'HR', 'salary': 5000},\n",
    "\n",
    " {'name': 'Charlie', 'department': 'HR', 'salary': 5500},\n",
    "\n",
    " {'name': 'Bob', 'department': 'Engineering', 'salary': 6000}]`\n",
    "\n",
    "The relative order of employees in the same department is maintained.\n",
    "\n",
    "**Unstable Sorting (Quick Sort):**\n",
    "\n",
    "`[{'name': 'Charlie', 'department': 'HR', 'salary': 5500},\n",
    "\n",
    " {'name': 'Alice', 'department': 'HR', 'salary': 5000},\n",
    "\n",
    " {'name': 'Bob', 'department': 'Engineering', 'salary': 6000}]`\n",
    "\n",
    "The relative order of employees in the same department may be disrupted."
   ]
  }
 ],
 "metadata": {
  "application/vnd.databricks.v1+notebook": {
   "computePreferences": null,
   "dashboards": [],
   "environmentMetadata": {
    "base_environment": "",
    "environment_version": "2"
   },
   "inputWidgetPreferences": null,
   "language": "python",
   "notebookMetadata": {
    "pythonIndentUnit": 4
   },
   "notebookName": "sorting",
   "widgets": {}
  },
  "language_info": {
   "name": "python"
  }
 },
 "nbformat": 4,
 "nbformat_minor": 0
}
