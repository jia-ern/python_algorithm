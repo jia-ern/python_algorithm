{
 "cells": [
  {
   "cell_type": "markdown",
   "metadata": {
    "application/vnd.databricks.v1+cell": {
     "cellMetadata": {},
     "inputWidgets": {},
     "nuid": "86691c90-31b2-4278-8a26-f47049fba918",
     "showTitle": false,
     "tableResultSettingsMap": {},
     "title": ""
    }
   },
   "source": [
    "Given a weighted undirected graph represented as an edge list and a source vertex src, find the shortest path distances from the source vertex to all other vertices in the graph. The graph contains V vertices, numbered from 0 to V - 1.\n",
    "\n",
    "Note: The given graph does not contain any negative edge.\n",
    "\n",
    "Examples:\n",
    "\n",
    "**Input: src = 0, V = 5, edges[][] = [[0, 1, 4], [0, 2, 8], [1, 4, 6], [2, 3, 2], [3, 4, 10]]** \n",
    "\n",
    "Graph with 5 node\n",
    "**Output:  0 4 8 10 10**\n",
    "\n",
    "Shortest Paths:  \n",
    "0 to 1 = 4. 0 → 1\n",
    "0 to 2 = 8. 0 → 2\n",
    "0 to 3 = 10. 0 → 2 → 3 \n",
    "0 to 4 = 10. 0 → 1 → 4"
   ]
  },
  {
   "cell_type": "code",
   "execution_count": 0,
   "metadata": {
    "application/vnd.databricks.v1+cell": {
     "cellMetadata": {},
     "inputWidgets": {},
     "nuid": "e9c288ca-d4fc-444c-91e2-cb2cc50caf48",
     "showTitle": false,
     "tableResultSettingsMap": {},
     "title": ""
    }
   },
   "outputs": [],
   "source": []
  },
  {
   "cell_type": "code",
   "execution_count": 0,
   "metadata": {
    "application/vnd.databricks.v1+cell": {
     "cellMetadata": {
      "byteLimit": 2048000,
      "rowLimit": 10000
     },
     "inputWidgets": {},
     "nuid": "857144fc-1edb-4065-9839-81cd8d7cfc81",
     "showTitle": false,
     "tableResultSettingsMap": {},
     "title": ""
    }
   },
   "outputs": [],
   "source": [
    "# Dijkstra’s Algorithm using Min Heap - O(E*logV) Time and O(V) Space\n",
    "\n",
    "# Returns shortest distances from src to all other vertices\n",
    "def dijkstra(V, edges, src):\n",
    "    # Create adjacency list\n",
    "    adj = constructAdj(edges, V)\n",
    "    print(\"adj: \", adj)\n",
    "\n",
    "    # Create a priority queue to store vertices that are being preprocessed.\n",
    "    pq = []\n",
    "    \n",
    "    # Create a list for distances and initialize all distances as infinite\n",
    "    dist = [sys.maxsize] * V\n",
    "    print(\"dist: \", dist)\n",
    "\n",
    "    # Insert source itself in priority queue and initialize its distance as 0.\n",
    "    heapq.heappush(pq, [0, src])\n",
    "    dist[src] = 0\n",
    "\n",
    "    # Looping till priority queue becomes empty (or all distances are not finalized) \n",
    "    while pq:\n",
    "        # The first vertex in pair is the minimum distance vertex, extract it from priority queue.\n",
    "        u = heapq.heappop(pq)[1]\n",
    "\n",
    "        # Get all adjacent of u.\n",
    "        for x in adj[u]:\n",
    "            # Get vertex label and weight of current adjacent of u.\n",
    "            v, weight = x[0], x[1]\n",
    "\n",
    "            # If there is shorter path to v through u.\n",
    "            if dist[v] > dist[u] + weight:\n",
    "                # Updating distance of v\n",
    "                dist[v] = dist[u] + weight\n",
    "                heapq.heappush(pq, [dist[v], v])\n",
    "\n",
    "    # Return the shortest distance array\n",
    "    return dist\n",
    "\n",
    "src = 0\n",
    "V = 5\n",
    "edges = [[0, 1, 4], [0, 2, 8], [1, 4, 6], [2, 3, 2], [3, 4, 10]] \n",
    "dijkstra(V, edges, src)"
   ]
  },
  {
   "cell_type": "code",
   "execution_count": 0,
   "metadata": {
    "application/vnd.databricks.v1+cell": {
     "cellMetadata": {},
     "inputWidgets": {},
     "nuid": "7529b113-1541-423a-afd3-d3e620f73db4",
     "showTitle": false,
     "tableResultSettingsMap": {},
     "title": ""
    }
   },
   "outputs": [],
   "source": []
  }
 ],
 "metadata": {
  "application/vnd.databricks.v1+notebook": {
   "computePreferences": null,
   "dashboards": [],
   "environmentMetadata": {
    "base_environment": "",
    "environment_version": "2"
   },
   "inputWidgetPreferences": null,
   "language": "python",
   "notebookMetadata": {
    "pythonIndentUnit": 4
   },
   "notebookName": "Dijkstra shortest path",
   "widgets": {}
  },
  "language_info": {
   "name": "python"
  }
 },
 "nbformat": 4,
 "nbformat_minor": 0
}
