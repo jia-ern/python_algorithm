{
 "cells": [
  {
   "cell_type": "markdown",
   "metadata": {
    "application/vnd.databricks.v1+cell": {
     "cellMetadata": {},
     "inputWidgets": {},
     "nuid": "3592419d-0d73-4b45-aebc-317175347ce8",
     "showTitle": false,
     "tableResultSettingsMap": {},
     "title": ""
    }
   },
   "source": [
    "# Binary tree\n",
    "\n",
    "## Types:\n",
    "### Full binary tree\n",
    "![](/Workspace/Users/jif170122@gmail.com/python_algorithm/pictures/binary_tree1.png)\n",
    "### Cmplete binary tree\n",
    "![](/Workspace/Users/jif170122@gmail.com/python_algorithm/pictures/binary_tree2.png)\n",
    "### Incomplete binary tree"
   ]
  },
  {
   "cell_type": "markdown",
   "metadata": {
    "application/vnd.databricks.v1+cell": {
     "cellMetadata": {},
     "inputWidgets": {},
     "nuid": "61cdec8d-9d2c-48c8-a487-b4b36fb261c8",
     "showTitle": false,
     "tableResultSettingsMap": {},
     "title": ""
    }
   },
   "source": [
    "# Heap \n",
    "- a complete binary tree data structure that satisfies the heap property: \n",
    "  - for every node, the value of its children is >= to its own value. \n",
    "- used to implement priority queues, where the smallest (or largest) element is always at the root of the tree.\n",
    "\n",
    "## Types\n",
    "![](/Workspace/Users/jif170122@gmail.com/python_algorithm/pictures/min_heap.png)\n",
    "![](/Workspace/Users/jif170122@gmail.com/python_algorithm/pictures/max_heap.png)\n",
    "\n",
    "## Sort, Insert, Delete\n",
    "- When insert, insert from the leaf node and adjust by sorting. Max should always but at the top\n",
    "- When delete, delete from the root node and adjust by sorting. Max should always but at the top\n",
    "![](/Workspace/Users/jif170122@gmail.com/python_algorithm/pictures/heap_insert_delete.png)"
   ]
  },
  {
   "cell_type": "markdown",
   "metadata": {
    "application/vnd.databricks.v1+cell": {
     "cellMetadata": {},
     "inputWidgets": {},
     "nuid": "d840100b-8a08-4ed8-8736-3d71cf3a7419",
     "showTitle": false,
     "tableResultSettingsMap": {},
     "title": ""
    }
   },
   "source": [
    "## Heapify\n",
    "- The idea is to heapify the complete binary tree formed from the array from the last node to root (in reverse level order traversal manner). \n",
    "![](/Workspace/Users/jif170122@gmail.com/python_algorithm/pictures/heapify_before.png)\n",
    "![](/Workspace/Users/jif170122@gmail.com/python_algorithm/pictures/heapify_after.png)\n",
    "\n",
    "## Priority Queue\n",
    "- Instead of being served in the order they arrive, items with higher priority are served first.\n",
    "\n",
    "Type\n",
    "- Small number high priority -> Min Heap\n",
    "- Large number high priority -> Max Heap\n",
    "\n",
    "Applications of priority queue\n",
    "- Task Scheduling (Operating Systems) manages tasks by priority, executing high-priority tasks first in real-time systems.\n",
    "- Dijkstra's Shortest Path Algorithm uses a priority queue to find the shortest path by selecting the nearest node.\n",
    "- Huffman Encoding (Data Compression) combines least frequent symbols using a priority queue to reduce data size.\n",
    "- Merging Multiple Sorted Lists merges sorted lists by selecting the smallest element from each list.\n",
    "- A Search Algorithm (Pathfinding) prioritizes nodes based on cost to find the shortest path in navigation or games.\n",
    "\n",
    "| Feature | Regular Queue | Priority Queue |\n",
    "| :-- | :-- | :-- |\n",
    "| Order of Processing | First-In-First-Out (FIFO) | Based on priority. |\n",
    "| Element Dequeue Order | In arrival order. | Highest priority first. |\n",
    "| Handling Same Priority | Based on arrival time. | Based on arrival time (within priority groups). |\n",
    "| Sorting Effect | No sorting occurs. | Acts as a sorted structure when dequeuing. |"
   ]
  },
  {
   "cell_type": "code",
   "execution_count": 0,
   "metadata": {
    "application/vnd.databricks.v1+cell": {
     "cellMetadata": {
      "byteLimit": 2048000,
      "rowLimit": 10000
     },
     "inputWidgets": {},
     "nuid": "34382ae2-c1e0-491a-9078-8acf260e102c",
     "showTitle": true,
     "tableResultSettingsMap": {},
     "title": "Priority Queue"
    }
   },
   "outputs": [],
   "source": [
    "# repeatedly remove and print the highest priority element (larger)\n",
    "\n",
    "def insert(q, d):\n",
    "    q.append(d)\n",
    "\n",
    "def delete(q):\n",
    "    try:\n",
    "        m = 0\n",
    "        for i in range(len(q)):\n",
    "            print(\"===================\")\n",
    "            print(\"q: \", q)\n",
    "            print(\"i: \", i)\n",
    "            print(\"m: \", m)\n",
    "            print(\"q[i]: \", q[i])\n",
    "            print(\"q[m]: \", q[m])\n",
    "            if q[i] > q[m]:\n",
    "                m = i\n",
    "        item = q[m]\n",
    "        del q[m]\n",
    "        return item\n",
    "    except IndexError:\n",
    "        print(\"Queue empty.\")\n",
    "        exit()\n",
    "\n",
    "def is_empty(q):\n",
    "    return len(q) == 0\n",
    "\n",
    "if __name__ == '__main__':\n",
    "    q = []\n",
    "\n",
    "    insert(q, 12)\n",
    "    insert(q, 1)\n",
    "    insert(q, 14)\n",
    "    insert(q, 7)\n",
    "\n",
    "    print(q)\n",
    "    print(\"Removed elements:\")\n",
    "    while not is_empty(q):\n",
    "        print(delete(q))"
   ]
  }
 ],
 "metadata": {
  "application/vnd.databricks.v1+notebook": {
   "computePreferences": null,
   "dashboards": [],
   "environmentMetadata": {
    "base_environment": "",
    "environment_version": "2"
   },
   "inputWidgetPreferences": null,
   "language": "python",
   "notebookMetadata": {
    "pythonIndentUnit": 4
   },
   "notebookName": "heap",
   "widgets": {}
  },
  "language_info": {
   "name": "python"
  }
 },
 "nbformat": 4,
 "nbformat_minor": 0
}
