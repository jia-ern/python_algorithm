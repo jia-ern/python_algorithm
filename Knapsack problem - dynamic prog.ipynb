{
 "cells": [
  {
   "cell_type": "markdown",
   "metadata": {
    "application/vnd.databricks.v1+cell": {
     "cellMetadata": {},
     "inputWidgets": {},
     "nuid": "1508e34e-d961-424b-a5eb-1df655865605",
     "showTitle": false,
     "tableResultSettingsMap": {},
     "title": ""
    }
   },
   "source": [
    "Given n items where each item has some weight and profit associated with it and also given a bag with capacity W, [i.e., the bag can hold at most W weight in it]. The task is to put the items into the bag such that the sum of profits associated with them is the maximum possible. \n",
    "\n",
    "Note: The constraint here is we can either put an item completely into the bag or cannot put it at all [It is not possible to put a part of an item into the bag].\n",
    "\n",
    "**Input:**  W = 4, profit[] = [1, 2, 3], weight[] = [4, 5, 1]\n",
    "\n",
    "**Output:** 3\n",
    "\n",
    "**Explanation:** There are two items which have weight less than or equal to 4. If we select the item with weight 4, the possible profit is 1. And if we select the item with weight 1, the possible profit is 3. So the maximum possible profit is 3. Note that we cannot put both the items with weight 4 and 1 together as the capacity of the bag is 4.\n",
    "\n",
    "**Input:** W = 3, profit[] = [1, 2, 3], weight[] = [4, 5, 6]\n",
    "\n",
    "**Output**: 0"
   ]
  },
  {
   "cell_type": "code",
   "execution_count": 0,
   "metadata": {
    "application/vnd.databricks.v1+cell": {
     "cellMetadata": {
      "byteLimit": 2048000,
      "rowLimit": 10000
     },
     "inputWidgets": {},
     "nuid": "ca797a78-c8e1-4d53-9c15-aa619d4339d1",
     "showTitle": true,
     "tableResultSettingsMap": {},
     "title": "Dynamic programming: O(n x W) Time"
    }
   },
   "outputs": [],
   "source": [
    "def knapsack(weights, profits, capacity):\n",
    "    n = len(weights)\n",
    "    dp = [[0] * (capacity + 1) for _ in range(n + 1)]\n",
    "\n",
    "    # Build DP table\n",
    "    for i in range(1, n + 1):  # Items\n",
    "        print(\"===================================\")\n",
    "        for w in range(capacity + 1):  # Capacity from 0 to W\n",
    "            print(\"w: \", w)\n",
    "            print(\"weights[i-1]: \", weights[i-1])\n",
    "\n",
    "            if weights[i-1] > w:  # If item is too heavy, exclude it\n",
    "                dp[i][w] = dp[i-1][w]\n",
    "                print(\"excluded: \", dp[i][w])\n",
    "            else:\n",
    "                print(\"profits[i-1]: \", profits[i-1])\n",
    "                print(\"dp[i-1][w - weights[i-1]]: \", dp[i-1][w - weights[i-1]])\n",
    "                dp[i][w] = max(dp[i-1][w], profits[i-1] + dp[i-1][w - weights[i-1]])\n",
    "                print(\"included: \", dp[i][w])\n",
    "\n",
    "    print(\"dp: \", dp)\n",
    "    # Find selected items\n",
    "    w = capacity\n",
    "    selected_items = []\n",
    "    for i in range(n, 0, -1):\n",
    "        print(f\"dp[{i}][{w}]: {dp[i][w]}\")\n",
    "        print(f\"dp[{i-1}][{w}]: {dp[i-1][w]}\")\n",
    "        if dp[i][w] != dp[i-1][w]:  # If the value changed, the item was included\n",
    "            selected_items.append(i-1)  # Store item index\n",
    "\n",
    "            print(\"weights[i-1]: \", weights[i-1])\n",
    "            w -= weights[i-1]\n",
    "\n",
    "    selected_items.reverse()  # To get items in order\n",
    "\n",
    "    return dp[n][capacity], selected_items\n",
    "\n",
    "# Example usage:\n",
    "weights = [3, 2, 4, 5, 1]\n",
    "profits = [50, 40, 70, 80, 10]  \n",
    "capacity = 7\n",
    "\n",
    "max_profit, items = knapsack(weights, profits, capacity)\n",
    "print(\"Maximum Profit:\", max_profit)\n",
    "print(\"Items in Knapsack:\", items)  "
   ]
  },
  {
   "cell_type": "code",
   "execution_count": 0,
   "metadata": {
    "application/vnd.databricks.v1+cell": {
     "cellMetadata": {
      "byteLimit": 2048000,
      "rowLimit": 10000
     },
     "collapsed": true,
     "inputWidgets": {},
     "nuid": "3d69e383-bd44-414b-a85a-c3fce4a1ed06",
     "showTitle": true,
     "tableResultSettingsMap": {},
     "title": "alt: Using Recursion O(2^n) Time and O(n) Space"
    }
   },
   "outputs": [],
   "source": [
    "# Returns the maximum value that\n",
    "# can be put in a knapsack of capacity W\n",
    "def knapsackRec(W, val, wt, n):\n",
    "\n",
    "    # Base Case\n",
    "    if n == 0 or W == 0:\n",
    "        return 0\n",
    "\n",
    "    pick = 0\n",
    "\n",
    "    # Pick nth item if it does not exceed the capacity of knapsack\n",
    "    if wt[n - 1] <= W:\n",
    "        pick = val[n - 1] + knapsackRec(W - wt[n - 1], val, wt, n - 1)\n",
    "    \n",
    "    # Don't pick the nth item\n",
    "    notPick = knapsackRec(W, val, wt, n - 1)\n",
    "     \n",
    "    return max(pick, notPick)\n",
    "\n",
    "def knapsack(W, val, wt):\n",
    "    n = len(val)\n",
    "    return knapsackRec(W, val, wt, n)\n",
    "\n",
    "if __name__ == \"__main__\":\n",
    "    val = [1, 2, 3]\n",
    "    wt = [4, 5, 1]\n",
    "    W = 4\n",
    "\n",
    "    print(knapsack(W, val, wt))"
   ]
  },
  {
   "cell_type": "code",
   "execution_count": 0,
   "metadata": {
    "application/vnd.databricks.v1+cell": {
     "cellMetadata": {
      "byteLimit": 2048000,
      "rowLimit": 10000
     },
     "inputWidgets": {},
     "nuid": "351703cd-b4d2-487f-94b8-9177882f48b4",
     "showTitle": true,
     "tableResultSettingsMap": {},
     "title": "alt: Using Bottom-Up DP (Tabulation) - O(n x W) Time and Space"
    }
   },
   "outputs": [],
   "source": [
    "# 1D dynamic programming (DP) array\n",
    "\n",
    "def knapsack(capacity, val, wt):\n",
    "    \n",
    "    # Initializing dp list\n",
    "    dp = [[0] * (capacity + 1) for _ in range(len(val) + 1)]\n",
    "    print(\"dp: \", dp)\n",
    "\n",
    "    # Taking first i elements\n",
    "    for i in range(1, len(val) + 1):  # Process items 1 to n\n",
    "        for w in range(capacity + 1):  # Process capacities from 0 to W\n",
    "            if wt[i - 1] <= w:  # If current item's weight fits in the knapsack\n",
    "                dp[i][w] = max(\n",
    "                    dp[i - 1][w],  # Exclude the current item\n",
    "                    val[i - 1] + dp[i - 1][w - wt[i - 1]]  # Include the current item\n",
    "                )\n",
    "            else:\n",
    "                dp[i][w] = dp[i - 1][w]  # Current item can't be included\n",
    "    \n",
    "    print(\"dp final: \", dp)\n",
    "    return dp[len(val)][capacity]\n",
    "\n",
    "if __name__ == \"__main__\":\n",
    "    val = [1, 2, 3]\n",
    "    wt = [4, 5, 1]\n",
    "    W = 4\n",
    "\n",
    "    print(knapsack(W, val, wt))"
   ]
  },
  {
   "cell_type": "code",
   "execution_count": 0,
   "metadata": {
    "application/vnd.databricks.v1+cell": {
     "cellMetadata": {},
     "inputWidgets": {},
     "nuid": "e3f85ed4-89bf-4e21-b246-c28fc50c2b37",
     "showTitle": false,
     "tableResultSettingsMap": {},
     "title": ""
    }
   },
   "outputs": [],
   "source": []
  }
 ],
 "metadata": {
  "application/vnd.databricks.v1+notebook": {
   "computePreferences": null,
   "dashboards": [],
   "environmentMetadata": {
    "base_environment": "",
    "environment_version": "2"
   },
   "inputWidgetPreferences": null,
   "language": "python",
   "notebookMetadata": {
    "pythonIndentUnit": 4
   },
   "notebookName": "Knapsack problem - dynamic prog",
   "widgets": {}
  },
  "language_info": {
   "name": "python"
  }
 },
 "nbformat": 4,
 "nbformat_minor": 0
}
