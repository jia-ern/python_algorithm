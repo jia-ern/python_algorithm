{
 "cells": [
  {
   "cell_type": "markdown",
   "metadata": {
    "application/vnd.databricks.v1+cell": {
     "cellMetadata": {},
     "inputWidgets": {},
     "nuid": "0c7cb7cf-9a21-416f-800f-f84239e252f8",
     "showTitle": false,
     "tableResultSettingsMap": {},
     "title": ""
    }
   },
   "source": [
    "#Fibonacci heap \n",
    "- a **data structure used for implementing priority queues.**\n",
    "- a type of heap data structure, but with several improvements over the traditional binary heap and binomial heap data structures.\n",
    "- a collection of trees, where each tree is a heap-ordered multi-tree = each tree has a single root node with its children arranged in a heap-ordered manner. \n",
    "- trees in a Fibonacci heap are organized: **root node with the smallest key is always at the front of the list of trees. (min heap)**\n",
    "\n",
    "Advantage \n",
    "- fast amortized running time for operations such as insert, merge & extract-min, making it one of the most efficient data structures for these operations. \n",
    "- running time of these operations in a Fibonacci heap:\n",
    "  -  O(1) for insert\n",
    "  - O(log n) for extract-min \n",
    "  -  O(1) amortized for merge."
   ]
  },
  {
   "cell_type": "markdown",
   "metadata": {
    "application/vnd.databricks.v1+cell": {
     "cellMetadata": {},
     "inputWidgets": {},
     "nuid": "b0bb0678-2953-4dcd-8399-105fa3394121",
     "showTitle": false,
     "tableResultSettingsMap": {},
     "title": ""
    }
   },
   "source": [
    "| Operation | Time Complexity | Description |\n",
    "| :-- | :-- | :-- |\n",
    "| Insertion | O(1)O(1) | Insert a new element into the priority queue in constant time. |\n",
    "| Find Min | O(1)O(1) | Find the smallest element in the priority queue without removing it. |\n",
    "| Union | O(1)O(1) | Merge two Fibonacci heaps into a single heap in constant time. |\n",
    "| Extract Min | O(log⁡n)O(\\log n) | Remove and return the smallest element, readjusting internal heap structure. |\n",
    "| Decrease Key | O(1)O(1) | Decrease the value (priority) of a key in constant time. |\n",
    "| Delete Node | O(log⁡n)O(\\log n) | Delete a specific node from the priority queue after restructuring the heap. |"
   ]
  },
  {
   "cell_type": "markdown",
   "metadata": {
    "application/vnd.databricks.v1+cell": {
     "cellMetadata": {},
     "inputWidgets": {},
     "nuid": "500e2d4a-bdce-401f-95a0-aa0c09eabec2",
     "showTitle": false,
     "tableResultSettingsMap": {},
     "title": ""
    }
   },
   "source": [
    "| Feature | Fibonacci Heap | Regular Heap (e.g., Binary Heap) |\n",
    "| :-- | :-- | :-- |\n",
    "| Time Complexity |  |  |\n",
    "| Insertion | O(1)O(1) Amortized | O(log⁡n)O(\\log n) |\n",
    "| Extract Min/Max | O(log⁡n)O(\\log n) | O(log⁡n)O(\\log n) |\n",
    "| Decrease Key | O(1)O(1) Amortized | O(log⁡n)O(\\log n) |\n",
    "| Delete Node | O(log⁡n)O(\\log n) | O(log⁡n)O(\\log n) |\n",
    "| Union | O(1)O(1) | O(n)O(n) (merging arrays isn't efficient) |\n",
    "| Space Complexity | O(n)O(n) | O(n)O(n) |\n",
    "| Heap Type | Can work as Min Heap (by default). | Works as either Min Heap or Max Heap depending on implementation. |\n",
    "| Structure | Collection of circularly linked trees. | Complete binary tree (or an array for efficient storage). |\n",
    "| Usage | Specialized for algorithms requiring frequent Union or Decrease Key. | Suitable for general-purpose priority queue operations. |\n",
    "| Ease of Implementation | More complex; requires multiple linked structures. | Simple; typically uses arrays or binary tree-based representation. |\n",
    "| Efficiency for Graph Problems | Very efficient for Dijkstra’s and Prim’s due to O(1)O(1) Decrease Key. | Less efficient due to O(log⁡n)O(\\log n) Decrease Key. |"
   ]
  },
  {
   "cell_type": "code",
   "execution_count": 0,
   "metadata": {
    "application/vnd.databricks.v1+cell": {
     "cellMetadata": {
      "byteLimit": 2048000,
      "rowLimit": 10000
     },
     "inputWidgets": {},
     "nuid": "34382ae2-c1e0-491a-9078-8acf260e102c",
     "showTitle": false,
     "tableResultSettingsMap": {},
     "title": ""
    }
   },
   "outputs": [],
   "source": [
    "# Fibonacci Heap in python\n",
    "\n",
    "import math\n",
    "\n",
    "# Creating fibonacci tree\n",
    "class FibonacciTree:\n",
    "    def __init__(self, value):\n",
    "        self.value = value\n",
    "        self.child = []\n",
    "        self.order = 0\n",
    "\n",
    "    # Adding tree at the end of the tree\n",
    "    def add_at_end(self, t):\n",
    "        self.child.append(t)\n",
    "        self.order = self.order + 1\n",
    "\n",
    "\n",
    "# Creating Fibonacci heap\n",
    "class FibonacciHeap:\n",
    "    def __init__(self):\n",
    "        self.trees = []\n",
    "        self.least = None\n",
    "        self.count = 0\n",
    "\n",
    "    # Insert a node\n",
    "    def insert_node(self, value):\n",
    "        new_tree = FibonacciTree(value)\n",
    "        self.trees.append(new_tree)\n",
    "        if (self.least is None or value < self.least.value):\n",
    "            self.least = new_tree\n",
    "        self.count = self.count + 1\n",
    "\n",
    "    # Get minimum value\n",
    "    def get_min(self):\n",
    "        if self.least is None:\n",
    "            return None\n",
    "        return self.least.value\n",
    "\n",
    "    # Extract the minimum value\n",
    "    def extract_min(self):\n",
    "        smallest = self.least\n",
    "        if smallest is not None:\n",
    "            for child in smallest.child:\n",
    "                self.trees.append(child)\n",
    "            self.trees.remove(smallest)\n",
    "            if self.trees == []:\n",
    "                self.least = None\n",
    "            else:\n",
    "                self.least = self.trees[0]\n",
    "                self.consolidate()\n",
    "            self.count = self.count - 1\n",
    "            return smallest.value\n",
    "\n",
    "    # Consolidate the tree\n",
    "    def consolidate(self):\n",
    "        aux = (floor_log(self.count) + 1) * [None]\n",
    "\n",
    "        while self.trees != []:\n",
    "            x = self.trees[0]\n",
    "            order = x.order\n",
    "            self.trees.remove(x)\n",
    "            while aux[order] is not None:\n",
    "                y = aux[order]\n",
    "                if x.value > y.value:\n",
    "                    x, y = y, x\n",
    "                x.add_at_end(y)\n",
    "                aux[order] = None\n",
    "                order = order + 1\n",
    "            aux[order] = x\n",
    "\n",
    "        self.least = None\n",
    "        for k in aux:\n",
    "            if k is not None:\n",
    "                self.trees.append(k)\n",
    "                if (self.least is None\n",
    "                        or k.value < self.least.value):\n",
    "                    self.least = k\n",
    "\n",
    "\n",
    "def floor_log(x):\n",
    "    return math.frexp(x)[1] - 1\n",
    "\n",
    "\n",
    "fibonacci_heap = FibonacciHeap()\n",
    "\n",
    "fibonacci_heap.insert_node(7)\n",
    "fibonacci_heap.insert_node(3)\n",
    "fibonacci_heap.insert_node(17)\n",
    "fibonacci_heap.insert_node(24)\n",
    "\n",
    "print('the minimum value of the fibonacci heap: {}'.format(fibonacci_heap.get_min()))\n",
    "\n",
    "print('the minimum value removed: {}'.format(fibonacci_heap.extract_min()))"
   ]
  },
  {
   "cell_type": "code",
   "execution_count": 0,
   "metadata": {
    "application/vnd.databricks.v1+cell": {
     "cellMetadata": {},
     "inputWidgets": {},
     "nuid": "2e780db0-e438-4f25-bfcb-9f27dfd214e6",
     "showTitle": false,
     "tableResultSettingsMap": {},
     "title": ""
    }
   },
   "outputs": [],
   "source": []
  }
 ],
 "metadata": {
  "application/vnd.databricks.v1+notebook": {
   "computePreferences": null,
   "dashboards": [],
   "environmentMetadata": {
    "base_environment": "",
    "environment_version": "2"
   },
   "inputWidgetPreferences": null,
   "language": "python",
   "notebookMetadata": {
    "pythonIndentUnit": 4
   },
   "notebookName": "fibonacci heap",
   "widgets": {}
  },
  "language_info": {
   "name": "python"
  }
 },
 "nbformat": 4,
 "nbformat_minor": 0
}
