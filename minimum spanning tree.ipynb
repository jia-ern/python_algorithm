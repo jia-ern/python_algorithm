{
 "cells": [
  {
   "cell_type": "markdown",
   "metadata": {
    "application/vnd.databricks.v1+cell": {
     "cellMetadata": {},
     "inputWidgets": {},
     "nuid": "77b2b08b-70fa-4185-8acf-e76243c4911d",
     "showTitle": false,
     "tableResultSettingsMap": {},
     "title": ""
    }
   },
   "source": [
    "# Spanning tree \n",
    "- defined as a tree-like subgraph of a connected, undirected graph that **includes all the vertices of the graph**. \n",
    "- a **subset of the edges of the graph** that forms a tree (acyclic) where every node of the graph is a part of the tree.\n",
    "- has all the properties of a spanning tree with an added constraint of having the minimum possible weights among all possible spanning trees. \n",
    "- Like a spanning tree, there can also be many possible MSTs for a graph.\n",
    "\n",
    "# Minimum spanning tree (MST) \n",
    "- defined as a spanning tree that has the minimum weight among all the possible spanning trees.\n",
    "\n",
    "G = (V, E)\n",
    "V = vectors\n",
    "E = Edges"
   ]
  },
  {
   "cell_type": "markdown",
   "metadata": {
    "application/vnd.databricks.v1+cell": {
     "cellMetadata": {},
     "inputWidgets": {},
     "nuid": "ef64c18a-b3e8-4db8-bdef-647cdb5b2b13",
     "showTitle": false,
     "tableResultSettingsMap": {},
     "title": ""
    }
   },
   "source": [
    "Properties of a Spanning Tree\n",
    "\n",
    "- The number of vertices (V) in the graph and the spanning tree is the same.\n",
    "- There is a fixed number of edges in the spanning tree which is equal to one less than the total number of vertices ( E = V-1 ).\n",
    "- The spanning tree should not be disconnected, as in there should only be a single source of component, not more than that.\n",
    "- The spanning tree should be acyclic, which means there would not be any cycle in the tree.\n",
    "- The total cost (or weight) of the spanning tree is defined as the sum of the edge weights of all the edges of the spanning tree.\n",
    "- There can be many possible spanning trees for a graph. \n",
    "\n",
    "![](/Workspace/Users/jif170122@gmail.com/python_algorithm/pictures/spanning_tree1.png)"
   ]
  },
  {
   "cell_type": "markdown",
   "metadata": {
    "application/vnd.databricks.v1+cell": {
     "cellMetadata": {},
     "inputWidgets": {},
     "nuid": "7b5f84d9-d086-495a-9407-b27d95bdd43e",
     "showTitle": false,
     "tableResultSettingsMap": {},
     "title": ""
    }
   },
   "source": [
    "## Prim's Minimum Spanning Tree Algorithm:\n",
    "- Time Complexity: O((E+V)*log(V)); V = no. of vertex; E = no. of edges\n",
    "- Auxiliary Space: O(E+V)\n",
    "- greedy algorithm\n",
    "- uses **priority_queue** to store the vertices sorted by their minimum edge weight currently. \n",
    "- simultaneously keeps track of the MST using an array or other data structure suitable considering the data type it is storing.\n",
    "- applications eg: \n",
    "  - image segmentation based on color, texture, or other features. \n",
    "  - routing: finding the shortest path between 2 points for a delivery truck to follow.\n",
    "\n",
    "1. starts by selecting an arbitrary vertex & then adding it to the MST. \n",
    "2. repeatedly **checks for the minimum edge weight** that **connects one vertex of MST to another vertex** that is not yet in the MST. \n",
    "3. process is continued until all the vertices are included in the MST. \n",
    "\n",
    "## Kruskal's Minimum Spanning Tree Algorithm\n",
    "- Time Complexity: O(E * log E) or O(E * log V) \n",
    "- finding the minimum spanning tree from a connected, undirected graph. \n",
    "- greedy algorithm. \n",
    "- implemented efficiently using a **DSU (Disjoint-Set) data structure** to keep track of the connected components of the graph\n",
    "- applications eg: network design, clustering, data analysis\n",
    "\n",
    "1. sorts all the edges of the graph by their weights\n",
    "2. starts the iterations of finding the spanning tree. \n",
    "3. At each iteration, the algorithm adds the next lowest-weight edge one by one, such that the edges picked until now does not form a cycle."
   ]
  },
  {
   "cell_type": "markdown",
   "metadata": {
    "application/vnd.databricks.v1+cell": {
     "cellMetadata": {},
     "inputWidgets": {},
     "nuid": "3385685a-3380-41b8-a2f3-d0d4707ad645",
     "showTitle": false,
     "tableResultSettingsMap": {},
     "title": ""
    }
   },
   "source": [
    "| Feature | Prim's Algorithm | Kruskal's Algorithm |\n",
    "| :-- | :-- | :-- |\n",
    "| Approach | Grows MST vertex-by-vertex. | Grows MST edge-by-edge in sorted order. |\n",
    "| Data Structure | Priority Queue (min-heap). | Union-Find. |\n",
    "| Cycle Management | Implicit. | Explicit (using Union-Find). |\n",
    "| Execution Complexity | O(V2)O(V^2) or O((E+V)log⁡V)O((E + V) \\log V). | O(Elog⁡E)O(E \\log E) or O(Elog⁡V)O(E \\log V). |\n",
    "| Best for | Dense graphs. | Sparse graphs. |"
   ]
  },
  {
   "cell_type": "markdown",
   "metadata": {
    "application/vnd.databricks.v1+cell": {
     "cellMetadata": {},
     "inputWidgets": {},
     "nuid": "490055b3-450f-4c9b-9c7d-1f3a293e49f5",
     "showTitle": false,
     "tableResultSettingsMap": {},
     "title": ""
    }
   },
   "source": [
    "![](/Workspace/Users/jif170122@gmail.com/python_algorithm/pictures/prim.png)"
   ]
  },
  {
   "cell_type": "code",
   "execution_count": 0,
   "metadata": {
    "application/vnd.databricks.v1+cell": {
     "cellMetadata": {
      "byteLimit": 2048000,
      "rowLimit": 10000
     },
     "inputWidgets": {},
     "nuid": "668dff13-0b2d-4d30-bea6-edc9bbcab95d",
     "showTitle": true,
     "tableResultSettingsMap": {},
     "title": "Prim"
    }
   },
   "outputs": [],
   "source": [
    "# checks for the minimum edge weight that connects one vertex of MST to another vertex\n",
    "# all vertex must be connected in order to find the minimum spanning tree\n",
    "\n",
    "# A Python3 program for \n",
    "# Prim's Minimum Spanning Tree (MST) algorithm.\n",
    "# The program is for adjacency matrix \n",
    "# representation of the graph\n",
    "\n",
    "# Library for INT_MAX\n",
    "import sys\n",
    "\n",
    "\n",
    "class Graph():\n",
    "    def __init__(self, vertices):\n",
    "        self.V = vertices\n",
    "        self.graph = [[0 for column in range(vertices)]\n",
    "                      for row in range(vertices)]\n",
    "\n",
    "    # A utility function to print \n",
    "    # the constructed MST stored in parent[]\n",
    "    def printMST(self, parent):\n",
    "        print(\"Edge \\tWeight\")\n",
    "        for i in range(1, self.V):\n",
    "            print(parent[i], \"-\", i, \"\\t\", self.graph[parent[i]][i])\n",
    "\n",
    "    # A utility function to find the vertex with\n",
    "    # minimum distance value, from the set of vertices\n",
    "    # not yet included in shortest path tree\n",
    "    def minKey(self, key, mstSet):\n",
    "\n",
    "        # Initialize min value\n",
    "        min = sys.maxsize\n",
    "\n",
    "        for v in range(self.V):\n",
    "            if key[v] < min and mstSet[v] == False:\n",
    "                min = key[v]\n",
    "                min_index = v\n",
    "\n",
    "        return min_index\n",
    "\n",
    "    # Function to construct and print MST for a graph\n",
    "    # represented using adjacency matrix representation\n",
    "    def primMST(self):\n",
    "\n",
    "        # Key values used to pick minimum weight edge in cut\n",
    "        key = [sys.maxsize] * self.V\n",
    "        parent = [None] * self.V  # Array to store constructed MST\n",
    "        # Make key 0 so that this vertex is picked as first vertex\n",
    "        key[0] = 0\n",
    "        mstSet = [False] * self.V\n",
    "\n",
    "        parent[0] = -1  # First node is always the root of\n",
    "\n",
    "        for cout in range(self.V):\n",
    "\n",
    "            # Pick the minimum distance vertex from\n",
    "            # the set of vertices not yet processed.\n",
    "            # u is always equal to src in first iteration\n",
    "            u = self.minKey(key, mstSet)\n",
    "\n",
    "            # Put the minimum distance vertex in the shortest path tree\n",
    "            mstSet[u] = True\n",
    "\n",
    "            # Update dist value of the adjacent vertices\n",
    "            # of the picked vertex only if the current\n",
    "            # distance is greater than new distance and\n",
    "            # the vertex in not in the shortest path tree\n",
    "            for v in range(self.V):\n",
    "\n",
    "                # graph[u][v] is non zero only for adjacent vertices of m\n",
    "                # mstSet[v] is false for vertices not yet included in MST\n",
    "                # Update the key only if graph[u][v] is smaller than key[v]\n",
    "                if self.graph[u][v] > 0 and mstSet[v] == False \\\n",
    "                and key[v] > self.graph[u][v]:\n",
    "                    key[v] = self.graph[u][v]\n",
    "                    parent[v] = u\n",
    "\n",
    "        self.printMST(parent)\n",
    "\n",
    "\n",
    "# Driver's code\n",
    "if __name__ == '__main__':\n",
    "    g = Graph(5)\n",
    "    g.graph = [[0, 2, 0, 6, 0],\n",
    "               [2, 0, 3, 8, 5],\n",
    "               [0, 3, 0, 0, 7],\n",
    "               [6, 8, 0, 0, 9],\n",
    "               [0, 5, 7, 9, 0]]\n",
    "\n",
    "    g.primMST()"
   ]
  },
  {
   "cell_type": "markdown",
   "metadata": {
    "application/vnd.databricks.v1+cell": {
     "cellMetadata": {},
     "inputWidgets": {},
     "nuid": "c30c19a6-77ed-40f9-ad84-484b1096f7a3",
     "showTitle": false,
     "tableResultSettingsMap": {},
     "title": ""
    }
   },
   "source": [
    "![](/Workspace/Users/jif170122@gmail.com/python_algorithm/pictures/kruskal.png)"
   ]
  },
  {
   "cell_type": "code",
   "execution_count": 0,
   "metadata": {
    "application/vnd.databricks.v1+cell": {
     "cellMetadata": {},
     "inputWidgets": {},
     "nuid": "ec53a86b-1181-473f-bc91-12806e3997a7",
     "showTitle": true,
     "tableResultSettingsMap": {},
     "title": "Prim"
    }
   },
   "outputs": [],
   "source": [
    "# Optimized Implementation using Adjacency List Representation (of Graph) and Priority Queue\n",
    "\n",
    "import heapq\n",
    "\n",
    "def tree(V, E, edges):\n",
    "    # Create an adjacency list representation of the graph\n",
    "    adj = [[] for _ in range(V)]\n",
    "    # Fill the adjacency list with edges and their weights\n",
    "    for i in range(E):\n",
    "        u, v, wt = edges[i]\n",
    "        adj[u].append((v, wt))\n",
    "        adj[v].append((u, wt))\n",
    "    # Create a priority queue to store edges with their weights\n",
    "    pq = []\n",
    "    # Create a visited array to keep track of visited vertices\n",
    "    visited = [False] * V\n",
    "    # Variable to store the result (sum of edge weights)\n",
    "    res = 0\n",
    "    # Start with vertex 0\n",
    "    heapq.heappush(pq, (0, 0))\n",
    "    # Perform Prim's algorithm to find the Minimum Spanning Tree\n",
    "    while pq:\n",
    "        wt, u = heapq.heappop(pq)\n",
    "        if visited[u]:\n",
    "            continue  \n",
    "            # Skip if the vertex is already visited\n",
    "        res += wt  \n",
    "        # Add the edge weight to the result\n",
    "        visited[u] = True  \n",
    "        # Mark the vertex as visited\n",
    "        # Explore the adjacent vertices\n",
    "        for v, weight in adj[u]:\n",
    "            if not visited[v]:\n",
    "                heapq.heappush(pq, (weight, v))  \n",
    "                # Add the adjacent edge to the priority queue\n",
    "    return res  \n",
    "  # Return the sum of edge weights of the Minimum Spanning Tree\n",
    "if __name__ == \"__main__\":\n",
    "    graph = [[0, 1, 5],\n",
    "             [1, 2, 3],\n",
    "             [0, 2, 1]]\n",
    "    # Function call\n",
    "    print(tree(3, 3, graph))"
   ]
  },
  {
   "cell_type": "code",
   "execution_count": 0,
   "metadata": {
    "application/vnd.databricks.v1+cell": {
     "cellMetadata": {
      "byteLimit": 2048000,
      "rowLimit": 10000
     },
     "inputWidgets": {},
     "nuid": "a442f234-1de5-493c-96e4-389830ce19e7",
     "showTitle": true,
     "tableResultSettingsMap": {},
     "title": "Kruskal"
    }
   },
   "outputs": [],
   "source": [
    "# checks for the minimum edge weight that connects or not connect one vertex of MST to another vertex (doesn't matter)\n",
    "# if the edge will form a cycle, do not select\n",
    "\n",
    "from functools import cmp_to_key\n",
    "\n",
    "def comparator(a,b):\n",
    "    return a[2] - b[2];\n",
    "\n",
    "def kruskals_mst(V, edges):\n",
    "\n",
    "    # Sort all edges\n",
    "    edges = sorted(edges,key=cmp_to_key(comparator))\n",
    "    \n",
    "    # Traverse edges in sorted order\n",
    "    dsu = DSU(V)\n",
    "    cost = 0\n",
    "    count = 0\n",
    "    for x, y, w in edges:\n",
    "        \n",
    "        # Make sure that there is no cycle\n",
    "        if dsu.find(x) != dsu.find(y):\n",
    "            dsu.union(x, y)\n",
    "            cost += w\n",
    "            count += 1\n",
    "            if count == V - 1:\n",
    "                break\n",
    "    return cost\n",
    "    \n",
    "# Disjoint set data structure\n",
    "class DSU:\n",
    "    def __init__(self, n):\n",
    "        self.parent = list(range(n))\n",
    "        self.rank = [1] * n\n",
    "\n",
    "    def find(self, i):\n",
    "        if self.parent[i] != i:\n",
    "            self.parent[i] = self.find(self.parent[i])\n",
    "        return self.parent[i]\n",
    "\n",
    "    def union(self, x, y):\n",
    "        s1 = self.find(x)\n",
    "        s2 = self.find(y)\n",
    "        if s1 != s2:\n",
    "            if self.rank[s1] < self.rank[s2]:\n",
    "                self.parent[s1] = s2\n",
    "            elif self.rank[s1] > self.rank[s2]:\n",
    "                self.parent[s2] = s1\n",
    "            else:\n",
    "                self.parent[s2] = s1\n",
    "                self.rank[s1] += 1\n",
    "\n",
    "\n",
    "if __name__ == '__main__':\n",
    "    \n",
    "    # An edge contains, weight, source and destination\n",
    "    edges = [[0, 1, 10], [1, 3, 15], [2, 3, 4], [2, 0, 6], [0, 3, 5]]\n",
    "    print(kruskals_mst(4, edges))"
   ]
  }
 ],
 "metadata": {
  "application/vnd.databricks.v1+notebook": {
   "computePreferences": null,
   "dashboards": [],
   "environmentMetadata": {
    "base_environment": "",
    "environment_version": "2"
   },
   "inputWidgetPreferences": null,
   "language": "python",
   "notebookMetadata": {
    "pythonIndentUnit": 4
   },
   "notebookName": "minimum spanning tree",
   "widgets": {}
  },
  "language_info": {
   "name": "python"
  }
 },
 "nbformat": 4,
 "nbformat_minor": 0
}
